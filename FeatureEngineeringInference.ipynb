{
 "cells": [
  {
   "cell_type": "code",
   "execution_count": 0,
   "metadata": {
    "application/vnd.databricks.v1+cell": {
     "cellMetadata": {
      "byteLimit": 2048000,
      "rowLimit": 10000
     },
     "inputWidgets": {},
     "nuid": "14c56d53-f834-478c-92da-7b9bfb0dd262",
     "showTitle": false,
     "title": ""
    }
   },
   "outputs": [],
   "source": [
    "import warnings\n",
    "warnings.filterwarnings('ignore')\n",
    "\n",
    "import pandas as pd\n",
    "import numpy as np\n",
    "import datetime\n",
    "import pyspark\n",
    "import pyspark.sql.functions as psf\n",
    "import uuid\n",
    "\n",
    "from pyspark.sql import DataFrame\n",
    "from pyspark.sql.functions import abs, mean, col, lit, when\n",
    "from decimal import Decimal\n",
    "from pyspark.sql.functions import col, datediff, to_date, date_sub, current_date"
   ]
  },
  {
   "cell_type": "code",
   "execution_count": 0,
   "metadata": {
    "application/vnd.databricks.v1+cell": {
     "cellMetadata": {
      "byteLimit": 2048000,
      "rowLimit": 10000
     },
     "inputWidgets": {},
     "nuid": "b80bbbe0-a01f-4b5d-b98c-3b517d1de2c7",
     "showTitle": false,
     "title": ""
    }
   },
   "outputs": [],
   "source": [
    "# %run ./requirements"
   ]
  },
  {
   "cell_type": "code",
   "execution_count": 0,
   "metadata": {
    "application/vnd.databricks.v1+cell": {
     "cellMetadata": {
      "byteLimit": 2048000,
      "rowLimit": 10000
     },
     "inputWidgets": {},
     "nuid": "6505b342-920d-4ceb-ae6f-58b8c29b65c5",
     "showTitle": false,
     "title": ""
    }
   },
   "outputs": [],
   "source": [
    "%run ./data_import"
   ]
  },
  {
   "cell_type": "code",
   "execution_count": 0,
   "metadata": {
    "application/vnd.databricks.v1+cell": {
     "cellMetadata": {
      "byteLimit": 2048000,
      "rowLimit": 10000
     },
     "inputWidgets": {},
     "nuid": "e66403e2-79d2-46b8-b8db-c4c4aae6f773",
     "showTitle": false,
     "title": ""
    }
   },
   "outputs": [],
   "source": [
    "%run ./featurization"
   ]
  },
  {
   "cell_type": "code",
   "execution_count": 0,
   "metadata": {
    "application/vnd.databricks.v1+cell": {
     "cellMetadata": {
      "byteLimit": 2048000,
      "rowLimit": 10000
     },
     "inputWidgets": {},
     "nuid": "be52400a-8f78-46d1-a75b-70bde30f340c",
     "showTitle": false,
     "title": ""
    }
   },
   "outputs": [
    {
     "output_type": "stream",
     "name": "stdout",
     "output_type": "stream",
     "text": [
      "Out[19]: DataFrame[]"
     ]
    }
   ],
   "source": [
    "schema_location =  \"hive_metastore.smarty_inactivity_churner\"\n",
    "spark.sql(\"CREATE SCHEMA IF NOT EXISTS {}\".format(schema_location))"
   ]
  },
  {
   "cell_type": "code",
   "execution_count": 0,
   "metadata": {
    "application/vnd.databricks.v1+cell": {
     "cellMetadata": {
      "byteLimit": 2048000,
      "rowLimit": 10000
     },
     "inputWidgets": {},
     "nuid": "fedeac05-df44-4c5a-9387-f7163cd1b31d",
     "showTitle": false,
     "title": ""
    }
   },
   "outputs": [],
   "source": [
    "data, snapshot_date = get_data() # retrieving snapshot_date for last sunday as string\n",
    "feature_data = get_features(data, 'SnapshotDate') # Using SnapshotDate as date from CAR table\n"
   ]
  },
  {
   "cell_type": "code",
   "execution_count": 0,
   "metadata": {
    "application/vnd.databricks.v1+cell": {
     "cellMetadata": {
      "byteLimit": 2048000,
      "rowLimit": 10000
     },
     "inputWidgets": {},
     "nuid": "f4cc32c3-7661-4469-96d1-214085845c90",
     "showTitle": false,
     "title": ""
    }
   },
   "outputs": [
    {
     "output_type": "stream",
     "name": "stdout",
     "output_type": "stream",
     "text": [
      "Out[21]: '2024-06-16'"
     ]
    }
   ],
   "source": [
    "snapshot_date"
   ]
  },
  {
   "cell_type": "code",
   "execution_count": 0,
   "metadata": {
    "application/vnd.databricks.v1+cell": {
     "cellMetadata": {
      "byteLimit": 2048000,
      "rowLimit": 10000
     },
     "inputWidgets": {},
     "nuid": "b651ee31-17db-4fe8-a944-f94283573b90",
     "showTitle": false,
     "title": ""
    }
   },
   "outputs": [],
   "source": [
    "# Base table name\n",
    "base_table_name = \"hive_metastore.smarty_inactivity_churner.inference_data\"\n",
    "spark.sql(\"CREATE DATABASE IF NOT EXISTS base_table_name\")\n",
    "\n",
    "# Replace hyphen with underscore in snapshot_date\n",
    "snapshot_date = snapshot_date.replace(\"-\", \"_\")\n",
    "\n",
    "# Construct the full table name with SnapshotDate appended\n",
    "full_table_name = f\"{base_table_name}_{snapshot_date}\"\n",
    "\n",
    "# Save the feature_data DataFrame to the dynamically named table\n",
    "feature_data.write.mode(\"overwrite\").saveAsTable(full_table_name)"
   ]
  },
  {
   "cell_type": "code",
   "execution_count": 0,
   "metadata": {
    "application/vnd.databricks.v1+cell": {
     "cellMetadata": {
      "byteLimit": 2048000,
      "rowLimit": 10000
     },
     "inputWidgets": {},
     "nuid": "a88bab4e-f4ca-4ed8-a2a5-e29307973574",
     "showTitle": false,
     "title": ""
    }
   },
   "outputs": [],
   "source": [
    "# hive_metastore.smarty_port_out_churner.inference_data_2024_06_09"
   ]
  },
  {
   "cell_type": "code",
   "execution_count": 0,
   "metadata": {
    "application/vnd.databricks.v1+cell": {
     "cellMetadata": {
      "byteLimit": 2048000,
      "rowLimit": 10000
     },
     "inputWidgets": {},
     "nuid": "13e29b4e-1c63-4710-8f17-988c3ed0ef57",
     "showTitle": false,
     "title": ""
    }
   },
   "outputs": [],
   "source": [
    "feature_data.write.mode(\"overwrite\").saveAsTable(\"hive_metastore.smarty_inactivity_churner.inference_data\")"
   ]
  },
  {
   "cell_type": "code",
   "execution_count": 0,
   "metadata": {
    "application/vnd.databricks.v1+cell": {
     "cellMetadata": {},
     "inputWidgets": {},
     "nuid": "aae3dc0a-2ac4-4d56-860d-f085eaab7585",
     "showTitle": false,
     "title": ""
    }
   },
   "outputs": [],
   "source": []
  }
 ],
 "metadata": {
  "application/vnd.databricks.v1+notebook": {
   "dashboards": [],
   "environmentMetadata": null,
   "language": "python",
   "notebookMetadata": {
    "pythonIndentUnit": 4
   },
   "notebookName": "FeatureEngineeringInference",
   "widgets": {}
  }
 },
 "nbformat": 4,
 "nbformat_minor": 0
}
