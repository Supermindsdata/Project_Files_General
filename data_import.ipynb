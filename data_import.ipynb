{
 "cells": [
  {
   "cell_type": "code",
   "execution_count": 0,
   "metadata": {
    "application/vnd.databricks.v1+cell": {
     "cellMetadata": {
      "byteLimit": 2048000,
      "rowLimit": 10000
     },
     "inputWidgets": {},
     "nuid": "ffab7808-8886-416d-895a-de753c1db4f0",
     "showTitle": false,
     "title": ""
    }
   },
   "outputs": [],
   "source": [
    "def get_data() -> DataFrame:\n",
    "    \"\"\"\n",
    "    Function to get the most recent Sunday's data snapshot from Snowflake,\n",
    "    remove quotes from column names, and return as a Spark DataFrame.\n",
    "    \"\"\"\n",
    "    \n",
    "    # Helper function that returns the previous Sunday relative to today's date\n",
    "    def get_last_sunday() -> str:\n",
    "        today = datetime.date.today()\n",
    "        weekday = today.weekday()\n",
    "        last_sunday = today - datetime.timedelta(days=weekday+1)\n",
    "        return last_sunday.strftime('%Y-%m-%d')\n",
    "\n",
    "    # Helper function to remove quotes from column names\n",
    "    def remove_quotes_from_columns(df: DataFrame) -> DataFrame:\n",
    "        old_columns = df.schema.names\n",
    "        new_columns = [x.replace('\"', '') for x in old_columns]\n",
    "        return df.toDF(*new_columns)\n",
    "\n",
    "    # Get the most recent Sunday date as a string\n",
    "    str_date = get_last_sunday()\n",
    "\n",
    "    # Get secrets for accessing Snowflake (assuming dbutils is available)\n",
    "    prod_user = dbutils.secrets.get(scope=\"SMARTY\", key=\"smarty_sc_u\")\n",
    "    prod_pwd = dbutils.secrets.get(scope=\"SMARTY\", key=\"smarty_sc_p\")\n",
    "\n",
    "    # Snowflake options\n",
    "    options = {\n",
    "        \"sfUrl\": 'threemobile.west-europe.privatelink.snowflakecomputing.com',\n",
    "        \"sfUser\": prod_user,\n",
    "        \"sfPassword\": prod_pwd,\n",
    "        \"sfDatabase\": 'PROD_SMARTY',\n",
    "        \"sfSchema\": 'DEFAULT',\n",
    "        \"sfWarehouse\": 'PROD_SMARTY_WH',\n",
    "        \"sfRole\": 'SF_PROD_SMARTY'\n",
    "    }\n",
    "    \n",
    "    # Load the data for last sunday\n",
    "    sdf = spark.read \\\n",
    "                .format(\"snowflake\") \\\n",
    "                .options(**options) \\\n",
    "                .option(\"query\",\n",
    "                        f\"\"\"\n",
    "                        SELECT *\n",
    "                        FROM SMARTY_CAR\n",
    "                        WHERE \"SnapshotDate\" = '{str_date}'\n",
    "                        \"\"\") \\\n",
    "                .load()\n",
    "\n",
    "    # Remove quotes from column names\n",
    "    sdf = remove_quotes_from_columns(sdf)\n",
    "\n",
    "    return sdf, str_date"
   ]
  }
 ],
 "metadata": {
  "application/vnd.databricks.v1+notebook": {
   "dashboards": [],
   "environmentMetadata": null,
   "language": "python",
   "notebookMetadata": {
    "pythonIndentUnit": 4
   },
   "notebookName": "data_import",
   "widgets": {}
  }
 },
 "nbformat": 4,
 "nbformat_minor": 0
}
